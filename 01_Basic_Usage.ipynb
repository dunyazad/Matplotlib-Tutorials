{
  "nbformat": 4,
  "nbformat_minor": 0,
  "metadata": {
    "colab": {
      "provenance": [],
      "authorship_tag": "ABX9TyNyczv6pAiuaUeZqEmBVhLd",
      "include_colab_link": true
    },
    "kernelspec": {
      "name": "python3",
      "display_name": "Python 3"
    },
    "language_info": {
      "name": "python"
    }
  },
  "cells": [
    {
      "cell_type": "markdown",
      "metadata": {
        "id": "view-in-github",
        "colab_type": "text"
      },
      "source": [
        "<a href=\"https://colab.research.google.com/github/dunyazad/Matplotlib-Tutorials/blob/main/01_Basic_Usage.ipynb\" target=\"_parent\"><img src=\"https://colab.research.google.com/assets/colab-badge.svg\" alt=\"Open In Colab\"/></a>"
      ]
    },
    {
      "cell_type": "markdown",
      "source": [
        "Matplotlib 라이브러리를 이용해서 그래프를 그리는 일반적인 방법"
      ],
      "metadata": {
        "id": "8EOU10jYQh7J"
      }
    },
    {
      "cell_type": "code",
      "source": [
        "import numpy as np\n",
        "import matplotlib.pyplot as plt"
      ],
      "metadata": {
        "cellView": "code",
        "id": "RzgpbPBMQ8zC"
      },
      "execution_count": null,
      "outputs": []
    },
    {
      "cell_type": "markdown",
      "source": [
        "\n",
        "\n",
        "---\n",
        "기본 그래프 그리기\n"
      ],
      "metadata": {
        "id": "34XCAeQaQ4H3"
      }
    },
    {
      "cell_type": "code",
      "source": [
        "plt.plot([0, 1, 2, 3, 4])\n",
        "plt.show()"
      ],
      "metadata": {
        "colab": {
          "base_uri": "https://localhost:8080/",
          "height": 265
        },
        "id": "Y6EIsb40RPXe",
        "outputId": "1cf401e0-c891-4921-ae23-bc9d71f6af7a"
      },
      "execution_count": null,
      "outputs": [
        {
          "output_type": "display_data",
          "data": {
            "text/plain": [
              "<Figure size 432x288 with 1 Axes>"
            ],
            "image/png": "[encoded data removed]"
          },
          "metadata": {
            "needs_background": "light"
          }
        }
      ]
    },
    {
      "cell_type": "code",
      "source": [
        "plt.plot([1, 2, 3, 4], [1, 4, 9, 16])"
      ],
      "metadata": {
        "colab": {
          "base_uri": "https://localhost:8080/",
          "height": 283
        },
        "id": "SpQ1pklaafG7",
        "outputId": "735c794a-6b94-4e04-8abd-d600cc7e223b"
      },
      "execution_count": null,
      "outputs": [
        {
          "output_type": "execute_result",
          "data": {
            "text/plain": [
              "[<matplotlib.lines.Line2D at 0x7fd33cf4db80>]"
            ]
          },
          "metadata": {},
          "execution_count": 11
        },
        {
          "output_type": "display_data",
          "data": {
            "text/plain": [
              "<Figure size 432x288 with 1 Axes>"
            ],
            "image/png": "[encoded data removed]"
          },
          "metadata": {
            "needs_background": "light"
          }
        }
      ]
    },
    {
      "cell_type": "markdown",
      "source": [
        "---\n",
        "스타일 지정\n",
        "\n",
        "\n",
        "\n"
      ],
      "metadata": {
        "id": "2YL_xhLZb1pY"
      }
    },
    {
      "cell_type": "markdown",
      "source": [
        "plot([x], y, [fmt], *, data=None, **kwargs)\n",
        "\n",
        "plot([x], y, [fmt], [x2], y2, [fmt2], ..., **kwargs)\n",
        "\n",
        "plot(x, y)        # plot x and y using default line style and color\n",
        "\n",
        "plot(x, y, 'bo')  # plot x and y using blue circle markers\n",
        "\n",
        "plot(y)           # plot y using x as index array 0..N-1\n",
        "\n",
        "plot(y, 'r+')     # ditto, but with red plusses\n"
      ],
      "metadata": {
        "id": "baBWhgFqbXST"
      }
    },
    {
      "cell_type": "code",
      "source": [
        "plt.plot([1, 2, 3, 4], [1, 4, 9, 16], 'ro')"
      ],
      "metadata": {
        "colab": {
          "base_uri": "https://localhost:8080/",
          "height": 283
        },
        "id": "zC_bya_mawtN",
        "outputId": "0f41479d-064d-4922-a484-a9cebe76e009"
      },
      "execution_count": null,
      "outputs": [
        {
          "output_type": "execute_result",
          "data": {
            "text/plain": [
              "[<matplotlib.lines.Line2D at 0x7fd33ced1c70>]"
            ]
          },
          "metadata": {},
          "execution_count": 12
        },
        {
          "output_type": "display_data",
          "data": {
            "text/plain": [
              "<Figure size 432x288 with 1 Axes>"
            ],
            "image/png": "[encoded data removed]"
          },
          "metadata": {
            "needs_background": "light"
          }
        }
      ]
    },
    {
      "cell_type": "code",
      "source": [
        "plt.plot([1, 2, 3, 4], [1, 4, 9, 16], 'ro')\n",
        "plt.axis([0, 6, 0, 20]) #[xmin, xmax, ymin, ymax]"
      ],
      "metadata": {
        "colab": {
          "base_uri": "https://localhost:8080/",
          "height": 287
        },
        "id": "AWuTwqHmcHGt",
        "outputId": "f2228cff-b73e-4cab-ade2-3e94bc58ce43"
      },
      "execution_count": null,
      "outputs": [
        {
          "output_type": "execute_result",
          "data": {
            "text/plain": [
              "(0.0, 6.0, 0.0, 20.0)"
            ]
          },
          "metadata": {},
          "execution_count": 13
        },
        {
          "output_type": "display_data",
          "data": {
            "text/plain": [
              "<Figure size 432x288 with 1 Axes>"
            ],
            "image/png": "[encoded data removed]"
          },
          "metadata": {
            "needs_background": "light"
          }
        }
      ]
    },
    {
      "cell_type": "markdown",
      "source": [
        "\n",
        "\n",
        "---\n",
        "여러개의 그래프\n"
      ],
      "metadata": {
        "id": "WMxc7Hpicb7G"
      }
    },
    {
      "cell_type": "code",
      "source": [
        "# 200ms 간격으로 균일하게 샘플된 시간\n",
        "t = np.arange(0., 5.0, 0.2)"
      ],
      "metadata": {
        "id": "kF2DE3K8cgee"
      },
      "execution_count": null,
      "outputs": []
    },
    {
      "cell_type": "code",
      "source": [
        "plt.plot(t, t, 'r--', t, t**2, 'bs', t, t**3, 'g^')"
      ],
      "metadata": {
        "colab": {
          "base_uri": "https://localhost:8080/",
          "height": 320
        },
        "id": "u6KZaFOmcxE2",
        "outputId": "80f77fba-ec12-4e54-d94d-d3545200da9f"
      },
      "execution_count": null,
      "outputs": [
        {
          "output_type": "execute_result",
          "data": {
            "text/plain": [
              "[<matplotlib.lines.Line2D at 0x7fd3349eaa30>,\n",
              " <matplotlib.lines.Line2D at 0x7fd3349eab20>,\n",
              " <matplotlib.lines.Line2D at 0x7fd3349eab50>]"
            ]
          },
          "metadata": {},
          "execution_count": 17
        },
        {
          "output_type": "display_data",
          "data": {
            "text/plain": [
              "<Figure size 432x288 with 1 Axes>"
            ],
            "image/png": "[encoded data removed]"
          },
          "metadata": {
            "needs_background": "light"
          }
        }
      ]
    },
    {
      "cell_type": "code",
      "source": [],
      "metadata": {
        "id": "ByQXDKskdRoQ"
      },
      "execution_count": null,
      "outputs": []
    }
  ]
}